{
 "cells": [
  {
   "cell_type": "code",
   "execution_count": 1,
   "metadata": {},
   "outputs": [
    {
     "name": "stdout",
     "output_type": "stream",
     "text": [
      "Bag-of-Words representation:\n",
      "[[1 0 1 1 0 1 1]\n",
      " [0 1 1 1 1 0 0]]\n"
     ]
    }
   ],
   "source": [
    "from sklearn.feature_extraction.text import CountVectorizer\n",
    "\n",
    "# Assuming you have the 'reviews' variable containing the fetched reviews\n",
    "reviews = [\n",
    "    {'author': 'Author1', 'content': 'This is the first review.'},\n",
    "    {'author': 'Author2', 'content': 'Second review is here.'},\n",
    "    # ... more reviews\n",
    "]\n",
    "\n",
    "# Extracting review content from the fetched data\n",
    "review_texts = [review['content'] for review in reviews]\n",
    "\n",
    "# Using CountVectorizer to convert text into bag-of-words representation\n",
    "cv = CountVectorizer(max_features=1000)\n",
    "X = cv.fit_transform(review_texts).toarray()\n",
    "\n",
    "# X contains the bag-of-words representation of the reviews\n",
    "print(\"Bag-of-Words representation:\")\n",
    "print(X)\n",
    "\n"
   ]
  }
 ],
 "metadata": {
  "kernelspec": {
   "display_name": "env",
   "language": "python",
   "name": "python3"
  },
  "language_info": {
   "codemirror_mode": {
    "name": "ipython",
    "version": 3
   },
   "file_extension": ".py",
   "mimetype": "text/x-python",
   "name": "python",
   "nbconvert_exporter": "python",
   "pygments_lexer": "ipython3",
   "version": "3.12.1"
  }
 },
 "nbformat": 4,
 "nbformat_minor": 2
}
